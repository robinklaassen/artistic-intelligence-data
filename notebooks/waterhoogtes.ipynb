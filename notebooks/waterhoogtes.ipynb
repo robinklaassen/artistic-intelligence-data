{
 "cells": [
  {
   "cell_type": "code",
   "execution_count": null,
   "id": "f0a9a67b-5ec1-4bec-9338-1c360b738e18",
   "metadata": {},
   "outputs": [],
   "source": [
    "import pandas as pd\n",
    "\n",
    "data = pd.read_csv(\"data/20240114_015.csv\", sep=\";\", encoding=\"iso-8859-1\")\n",
    "data.head()"
   ]
  },
  {
   "cell_type": "code",
   "execution_count": null,
   "id": "78b85921-0634-4a98-9776-2a0063048aa0",
   "metadata": {},
   "outputs": [],
   "source": [
    "# Drop empty columns\n",
    "data = data.dropna(axis=\"columns\", how=\"all\")\n",
    "data.head()"
   ]
  },
  {
   "cell_type": "code",
   "execution_count": null,
   "id": "44a43b75-dc9f-483a-80d2-3e8aa5538b9b",
   "metadata": {},
   "outputs": [],
   "source": [
    "# Drop columns that have all the same value\n",
    "same_cols = []\n",
    "metadata = {}\n",
    "\n",
    "for colname in data.columns:\n",
    "    values = data[colname].tolist()\n",
    "    if len(set(values)) == 1:\n",
    "        # print(f\"Column {colname} is unique with value {col[0]}\")\n",
    "        same_cols.append(colname)\n",
    "        metadata[colname] = values[0]\n",
    "\n",
    "metadata"
   ]
  },
  {
   "cell_type": "code",
   "execution_count": null,
   "id": "43e1c095-d6eb-4e91-bf6d-0fc64a5623ea",
   "metadata": {},
   "outputs": [],
   "source": [
    "data = data.drop(columns=same_cols)\n",
    "data.head()"
   ]
  },
  {
   "cell_type": "code",
   "execution_count": null,
   "id": "b5c5fce6-9044-4046-900d-42174b00ac5a",
   "metadata": {},
   "outputs": [],
   "source": [
    "# add proper datetime column\n",
    "from datetime import datetime\n",
    "\n",
    "data[\"DATUMTIJD\"] = pd.to_datetime(data[\"WAARNEMINGDATUM\"] + \" \" + data[\"WAARNEMINGTIJD (MET/CET)\"], format=\"%d-%m-%Y %H:%M:%S\")"
   ]
  },
  {
   "cell_type": "code",
   "execution_count": null,
   "id": "fbd5b014-a619-4315-8d28-daa96428c182",
   "metadata": {},
   "outputs": [],
   "source": [
    "# convert X and Y to proper floats\n",
    "for c in [\"X\", \"Y\"]:\n",
    "    data[c] = data[c].str.replace(\",\", \".\").astype(float)\n"
   ]
  },
  {
   "cell_type": "code",
   "execution_count": null,
   "id": "a8b818fd-9020-47de-b6a7-52f832e9000c",
   "metadata": {},
   "outputs": [],
   "source": [
    "# remove rows where X or Y is 0\n",
    "data = data[data.X != 0]\n",
    "data = data[data.Y != 0]"
   ]
  },
  {
   "cell_type": "code",
   "execution_count": null,
   "id": "eec4d40f-77d8-4ba6-bb82-d919642400fb",
   "metadata": {},
   "outputs": [],
   "source": [
    "# create locations gdf\n",
    "import geopandas as gpd\n",
    "\n",
    "key_col = \"LOCATIE_CODE\"\n",
    "attr_cols = [\"MEETPUNT_IDENTIFICATIE\", \"X\", \"Y\"]\n",
    "\n",
    "locations = data.groupby(by=key_col)[attr_cols].first()\n",
    "locations = gpd.GeoDataFrame(locations, geometry=gpd.points_from_xy(locations[\"X\"], locations[\"Y\"], crs=\"EPSG:25831\"))\n",
    "\n",
    "locations.head()"
   ]
  },
  {
   "cell_type": "code",
   "execution_count": null,
   "id": "9c415077-c3d4-4fae-b0f0-eb208afe42bf",
   "metadata": {},
   "outputs": [],
   "source": [
    "# convert CRS and scale to -1, 1\n",
    "locations = locations.to_crs(epsg=28992)\n",
    "\n",
    "locations[\"SCALED_X\"] = (locations.geometry.x - 155_000) / (325_000 / 2)\n",
    "locations[\"SCALED_Y\"] = (locations.geometry.y - 463_000) / (325_000 / 2)\n",
    "locations = locations.round(5)\n",
    "\n",
    "locations.head()"
   ]
  },
  {
   "cell_type": "code",
   "execution_count": null,
   "id": "7c4c7f8d-b791-4f69-a7ec-6e455a9be9dd",
   "metadata": {},
   "outputs": [],
   "source": [
    "# select columns and export locations\n",
    "locations[[\"MEETPUNT_IDENTIFICATIE\", \"SCALED_X\", \"SCALED_Y\"]].to_csv(\"output/waterhoogtes_locaties.csv\", sep=\",\", encoding=\"utf-8\")"
   ]
  },
  {
   "cell_type": "code",
   "execution_count": null,
   "id": "575a75cd-174a-4bf0-910a-293fbf674979",
   "metadata": {},
   "outputs": [],
   "source": [
    "# pivot to location per column\n",
    "meas = data.pivot_table(index=\"DATUMTIJD\", values=\"NUMERIEKEWAARDE\", columns=\"LOCATIE_CODE\")\n",
    "meas.head()"
   ]
  },
  {
   "cell_type": "code",
   "execution_count": null,
   "id": "a7e1cd15-9ae7-4dd6-bb77-9af408f40fb1",
   "metadata": {},
   "outputs": [],
   "source": [
    "# remove RWS max values\n",
    "meas.replace(999_999_999.0, np.nan, inplace=True)\n",
    "meas"
   ]
  },
  {
   "cell_type": "code",
   "execution_count": null,
   "id": "18d8c244-1969-4c23-8187-3289643f7764",
   "metadata": {},
   "outputs": [],
   "source": [
    "# show absolute diffs\n",
    "meas.diff().abs()"
   ]
  },
  {
   "cell_type": "code",
   "execution_count": null,
   "id": "dfcb65c4-7304-4d97-913f-6ff89253ff2d",
   "metadata": {},
   "outputs": [],
   "source": [
    "# remove outliers by looking at mean of absolute diff\n",
    "abs_diff = meas.diff().abs()\n",
    "outliers = abs_diff >= 5 * abs_diff.mean()\n",
    "outliers"
   ]
  },
  {
   "cell_type": "code",
   "execution_count": null,
   "id": "f812087c-d053-4df3-9592-bd3db98aa19a",
   "metadata": {},
   "outputs": [],
   "source": [
    "# remove outliers\n",
    "meas[outliers] = np.nan\n",
    "meas"
   ]
  },
  {
   "cell_type": "code",
   "execution_count": null,
   "id": "7da7c071-bbdc-4c65-999e-2226456c6e0e",
   "metadata": {},
   "outputs": [],
   "source": [
    "# fill gaps by interpolation\n",
    "meas.interpolate(axis=0, method=\"linear\", limit_direction=\"both\", inplace=True)\n",
    "meas.astype(int)"
   ]
  },
  {
   "cell_type": "code",
   "execution_count": null,
   "id": "5c6c3347-e32e-4f78-aa89-1b3730b827f8",
   "metadata": {},
   "outputs": [],
   "source": [
    "# back to long table and export\n",
    "meas_long = meas.astype(int).reset_index().melt(id_vars=\"DATUMTIJD\", value_name=\"NUMERIEKEWAARDE\")\n",
    "meas_long.to_csv(\"output/waterhoogtes_long.csv\", sep=\";\", encoding=\"utf-8\", index=False)"
   ]
  },
  {
   "cell_type": "code",
   "execution_count": null,
   "id": "092d5815-ca8e-4448-bf58-e2cdfff99e3b",
   "metadata": {},
   "outputs": [],
   "source": [
    "# pivot for touch and export\n",
    "meas_piv = meas_long.pivot_table(index=\"LOCATIE_CODE\", values=\"NUMERIEKEWAARDE\", columns=\"DATUMTIJD\").astype(int)\n",
    "meas_piv.to_csv(\"output/waterhoogtes_pivoted.csv\", sep=\",\", encoding=\"utf-8\")"
   ]
  }
 ],
 "metadata": {
  "kernelspec": {
   "display_name": "Python 3 (ipykernel)",
   "language": "python",
   "name": "python3"
  },
  "language_info": {
   "codemirror_mode": {
    "name": "ipython",
    "version": 3
   },
   "file_extension": ".py",
   "mimetype": "text/x-python",
   "name": "python",
   "nbconvert_exporter": "python",
   "pygments_lexer": "ipython3",
   "version": "3.12.4"
  }
 },
 "nbformat": 4,
 "nbformat_minor": 5
}
