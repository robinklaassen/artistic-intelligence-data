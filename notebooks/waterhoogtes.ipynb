{
 "cells": [
  {
   "cell_type": "code",
   "execution_count": null,
   "id": "f0a9a67b-5ec1-4bec-9338-1c360b738e18",
   "metadata": {},
   "outputs": [],
   "source": [
    "import pandas as pd\n",
    "\n",
    "data = pd.read_csv(\"data/20240114_015.csv\", sep=\";\", encoding=\"iso-8859-1\")\n",
    "data.head()"
   ]
  },
  {
   "cell_type": "code",
   "execution_count": null,
   "id": "78b85921-0634-4a98-9776-2a0063048aa0",
   "metadata": {},
   "outputs": [],
   "source": [
    "# Drop empty columns\n",
    "data = data.dropna(axis=\"columns\", how=\"all\")\n",
    "data.head()"
   ]
  },
  {
   "cell_type": "code",
   "execution_count": null,
   "id": "44a43b75-dc9f-483a-80d2-3e8aa5538b9b",
   "metadata": {},
   "outputs": [],
   "source": [
    "# Drop columns that have all the same value\n",
    "same_cols = []\n",
    "metadata = {}\n",
    "\n",
    "for colname in data.columns:\n",
    "    values = data[colname].tolist()\n",
    "    if len(set(values)) == 1:\n",
    "        # print(f\"Column {colname} is unique with value {col[0]}\")\n",
    "        same_cols.append(colname)\n",
    "        metadata[colname] = values[0]\n",
    "\n",
    "metadata"
   ]
  },
  {
   "cell_type": "code",
   "execution_count": null,
   "id": "43e1c095-d6eb-4e91-bf6d-0fc64a5623ea",
   "metadata": {},
   "outputs": [],
   "source": [
    "data = data.drop(columns=same_cols)\n",
    "data.head()"
   ]
  },
  {
   "cell_type": "code",
   "execution_count": null,
   "id": "b5c5fce6-9044-4046-900d-42174b00ac5a",
   "metadata": {},
   "outputs": [],
   "source": [
    "# add proper datetime column\n",
    "from datetime import datetime\n",
    "\n",
    "data[\"DATUMTIJD\"] = pd.to_datetime(data[\"WAARNEMINGDATUM\"] + \" \" + data[\"WAARNEMINGTIJD (MET/CET)\"], format=\"%d-%m-%Y %H:%M:%S\")"
   ]
  },
  {
   "cell_type": "code",
   "execution_count": null,
   "id": "fbd5b014-a619-4315-8d28-daa96428c182",
   "metadata": {},
   "outputs": [],
   "source": [
    "# convert X and Y to proper floats\n",
    "for c in [\"X\", \"Y\"]:\n",
    "    data[c] = data[c].str.replace(\",\", \".\").astype(float)\n"
   ]
  },
  {
   "cell_type": "code",
   "execution_count": null,
   "id": "a8b818fd-9020-47de-b6a7-52f832e9000c",
   "metadata": {},
   "outputs": [],
   "source": [
    "# remove rows where X or Y is 0\n",
    "data = data[data.X != 0]\n",
    "data = data[data.Y != 0]"
   ]
  },
  {
   "cell_type": "code",
   "execution_count": null,
   "id": "eec4d40f-77d8-4ba6-bb82-d919642400fb",
   "metadata": {},
   "outputs": [],
   "source": [
    "# create locations gdf\n",
    "import geopandas as gpd\n",
    "\n",
    "key_col = \"LOCATIE_CODE\"\n",
    "attr_cols = [\"MEETPUNT_IDENTIFICATIE\", \"X\", \"Y\"]\n",
    "\n",
    "locations = data.groupby(by=key_col)[attr_cols].first()\n",
    "locations = gpd.GeoDataFrame(locations, geometry=gpd.points_from_xy(locations[\"X\"], locations[\"Y\"], crs=\"EPSG:25831\"))\n",
    "\n",
    "locations.head()"
   ]
  },
  {
   "cell_type": "code",
   "execution_count": null,
   "id": "9c415077-c3d4-4fae-b0f0-eb208afe42bf",
   "metadata": {},
   "outputs": [],
   "source": [
    "# convert CRS and scale to -1, 1\n",
    "locations = locations.to_crs(epsg=28992)\n",
    "\n",
    "locations[\"SCALED_X\"] = (locations.geometry.x - 155_000) / (325_000 / 2)\n",
    "locations[\"SCALED_Y\"] = (locations.geometry.y - 463_000) / (325_000 / 2)\n",
    "locations = locations.round(5)\n",
    "\n",
    "locations.head()"
   ]
  },
  {
   "cell_type": "code",
   "execution_count": null,
   "id": "7c4c7f8d-b791-4f69-a7ec-6e455a9be9dd",
   "metadata": {},
   "outputs": [],
   "source": [
    "# select columns and export locations\n",
    "locations[[\"MEETPUNT_IDENTIFICATIE\", \"SCALED_X\", \"SCALED_Y\"]].to_csv(\"output/waterhoogtes_locaties.csv\", sep=\",\", encoding=\"utf-8\")"
   ]
  },
  {
   "cell_type": "code",
   "execution_count": null,
   "id": "575a75cd-174a-4bf0-910a-293fbf674979",
   "metadata": {},
   "outputs": [],
   "source": [
    "# pivot to location per column\n",
    "meas = data.pivot_table(index=\"DATUMTIJD\", values=\"NUMERIEKEWAARDE\", columns=\"LOCATIE_CODE\")\n",
    "meas.head()"
   ]
  },
  {
   "cell_type": "code",
   "execution_count": null,
   "id": "a7e1cd15-9ae7-4dd6-bb77-9af408f40fb1",
   "metadata": {},
   "outputs": [],
   "source": [
    "# remove RWS max values\n",
    "import numpy as np\n",
    "meas.replace(999_999_999.0, np.nan, inplace=True)\n",
    "meas"
   ]
  },
  {
   "cell_type": "code",
   "execution_count": null,
   "id": "18d8c244-1969-4c23-8187-3289643f7764",
   "metadata": {},
   "outputs": [],
   "source": [
    "# show absolute diffs\n",
    "meas.diff().abs()"
   ]
  },
  {
   "cell_type": "code",
   "execution_count": null,
   "id": "dfcb65c4-7304-4d97-913f-6ff89253ff2d",
   "metadata": {},
   "outputs": [],
   "source": [
    "# remove outliers by looking at mean of absolute diff\n",
    "abs_diff = meas.diff().abs()\n",
    "outliers = abs_diff >= 5 * abs_diff.mean()\n",
    "outliers"
   ]
  },
  {
   "cell_type": "code",
   "execution_count": null,
   "id": "f812087c-d053-4df3-9592-bd3db98aa19a",
   "metadata": {},
   "outputs": [],
   "source": [
    "# remove outliers\n",
    "meas[outliers] = np.nan\n",
    "meas"
   ]
  },
  {
   "cell_type": "code",
   "execution_count": null,
   "id": "7da7c071-bbdc-4c65-999e-2226456c6e0e",
   "metadata": {},
   "outputs": [],
   "source": [
    "# fill gaps by interpolation\n",
    "meas.interpolate(axis=0, method=\"linear\", limit_direction=\"both\", inplace=True)\n",
    "meas.astype(int)"
   ]
  },
  {
   "cell_type": "code",
   "execution_count": null,
   "id": "5c6c3347-e32e-4f78-aa89-1b3730b827f8",
   "metadata": {},
   "outputs": [],
   "source": [
    "# back to long table and export\n",
    "meas_long = meas.astype(int).reset_index().melt(id_vars=\"DATUMTIJD\", value_name=\"NUMERIEKEWAARDE\")\n",
    "meas_long.to_csv(\"output/waterhoogtes_long.csv\", sep=\";\", encoding=\"utf-8\", index=False)"
   ]
  },
  {
   "cell_type": "code",
   "execution_count": null,
   "id": "092d5815-ca8e-4448-bf58-e2cdfff99e3b",
   "metadata": {},
   "outputs": [],
   "source": [
    "# pivot for touch and export\n",
    "meas_piv = meas_long.pivot_table(index=\"LOCATIE_CODE\", values=\"NUMERIEKEWAARDE\", columns=\"DATUMTIJD\").astype(int)\n",
    "meas_piv.to_csv(\"output/waterhoogtes_pivoted.csv\", sep=\",\", encoding=\"utf-8\")"
   ]
  },
  {
   "cell_type": "markdown",
   "id": "9a2a63bd-5adc-41c3-aabc-fbcc51b7ba71",
   "metadata": {},
   "source": [
    "## rhine filtering"
   ]
  },
  {
   "cell_type": "code",
   "execution_count": null,
   "id": "240d96fe-0b75-448e-8228-93cf34670864",
   "metadata": {},
   "outputs": [],
   "source": [
    "# browse measurement locations\n",
    "locations.plot()"
   ]
  },
  {
   "cell_type": "code",
   "execution_count": null,
   "id": "31c26a74-0b63-49db-896b-1d49ab9c7aad",
   "metadata": {},
   "outputs": [],
   "source": [
    "rivierlijnen = gpd.read_file(\"data/rivierlijnen.zip\")\n",
    "rivierlijnen.plot()"
   ]
  },
  {
   "cell_type": "code",
   "execution_count": null,
   "id": "006d396a-73d8-44a3-998a-779145e2e164",
   "metadata": {},
   "outputs": [],
   "source": [
    "rivierlijnen"
   ]
  },
  {
   "cell_type": "code",
   "execution_count": null,
   "id": "ca9108f8-f584-4910-a463-64a0c15d6850",
   "metadata": {},
   "outputs": [],
   "source": [
    "rijnlijn = rivierlijnen.to_crs(epsg=28992).iloc[0].geometry\n",
    "rijnlijn  # coords start at river head (low Y)"
   ]
  },
  {
   "cell_type": "code",
   "execution_count": null,
   "id": "3ac258b4-fc79-4eeb-85f6-32995e12b843",
   "metadata": {},
   "outputs": [],
   "source": [
    "from shapely import Point, MultiPoint\n",
    "\n",
    "rijnlijn_vertices = MultiPoint([Point(xy) for xy in rijnlijn.coords])\n",
    "rijnlijn_vertices"
   ]
  },
  {
   "cell_type": "code",
   "execution_count": null,
   "id": "5135dcb6-ed67-4cc0-97b8-63b49e521b0c",
   "metadata": {},
   "outputs": [],
   "source": [
    "rijnlijn_locations = locations[locations.distance(rijnlijn) < 1000]\n",
    "rijnlijn_locations"
   ]
  },
  {
   "cell_type": "code",
   "execution_count": null,
   "id": "54766d10-7f3e-48d8-975b-a0efcf11608a",
   "metadata": {},
   "outputs": [],
   "source": [
    "from shapely.ops import nearest_points, snap\n",
    "\n",
    "some_point = rijnlijn_locations.iloc[0].geometry\n",
    "print(\"measurement location\", some_point)\n",
    "vertex = nearest_points(some_point, rijnlijn_vertices)[1]\n",
    "print(\"vertex using nearest points\", vertex)\n",
    "# list(rijnlijn_vertices.geoms)\n",
    "index = list(rijnlijn_vertices.geoms).index(vertex)\n",
    "print(index)\n"
   ]
  },
  {
   "cell_type": "code",
   "execution_count": null,
   "id": "9c670b7f-a8c5-48e8-a908-5a26fd205129",
   "metadata": {},
   "outputs": [],
   "source": [
    "# construct a dict of locatie_code to geometry index\n",
    "location_index = dict()\n",
    "for locatie_code, row in rijnlijn_locations.iterrows():\n",
    "    vertex = nearest_points(row.geometry, rijnlijn_vertices)[1]\n",
    "    idx = list(rijnlijn_vertices.geoms).index(vertex)\n",
    "    location_index[locatie_code] = idx\n",
    "\n",
    "print(location_index)"
   ]
  },
  {
   "cell_type": "code",
   "execution_count": null,
   "id": "cbf082a0-3306-4f7d-a2c6-332c906da9fa",
   "metadata": {},
   "outputs": [],
   "source": [
    "meas_at_time"
   ]
  },
  {
   "cell_type": "code",
   "execution_count": null,
   "id": "b8b1385d-0350-414b-a6ce-7039ac763dcd",
   "metadata": {},
   "outputs": [],
   "source": [
    "{r.LOCATIE_CODE: r.NUMERIEKEWAARDE for _, r in meas_at_time.iterrows()}"
   ]
  },
  {
   "cell_type": "code",
   "execution_count": null,
   "id": "eb7b0de1-2cc4-43e3-bf12-8a9641bd4a53",
   "metadata": {},
   "outputs": [],
   "source": [
    "def spatial_interpolate(line_vertices, location_index, measurements, the_time) -> pd.Series:\n",
    "    \"\"\"Spatial interpolation of measurement data for a single time point.\"\"\"\n",
    "    meas_at_time = measurements[measurements[\"DATUMTIJD\"] == the_time]\n",
    "\n",
    "    reversed_location_index = {v: k for k, v in location_index.items()}\n",
    "    points = [reversed_location_index.get(i, None) for i in range(len(line_vertices.geoms))]\n",
    "    values = [\n",
    "        np.nan if p is None else int(meas_at_time[meas_at_time[\"LOCATIE_CODE\"] == p][\"NUMERIEKEWAARDE\"].iloc[0])\n",
    "        for p in points\n",
    "    ]\n",
    "    series = pd.Series(values)\n",
    "    series = series.interpolate()\n",
    "    series.name = the_time\n",
    "    return series\n",
    "\n",
    "the_time = meas_long.iloc[0][\"DATUMTIJD\"]\n",
    "result = spatial_interpolate(rijnlijn_vertices, location_index, meas_long, the_time)\n",
    "result\n"
   ]
  },
  {
   "cell_type": "code",
   "execution_count": null,
   "id": "02b11ba8-ce55-4ff6-93d3-112c6b94dd82",
   "metadata": {},
   "outputs": [],
   "source": [
    "meas_long[\"DATUMTIJD\"].unique()"
   ]
  },
  {
   "cell_type": "code",
   "execution_count": null,
   "id": "40310390-7f9f-4b57-be15-c7ed50307075",
   "metadata": {},
   "outputs": [],
   "source": [
    "all_data = pd.concat([spatial_interpolate(rijnlijn_vertices, location_index, meas_long, the_time) for the_time in meas_long[\"DATUMTIJD\"].unique()], axis=1)\n",
    "all_data.head()\n"
   ]
  },
  {
   "cell_type": "code",
   "execution_count": null,
   "id": "c30de8b4-4fba-4384-b7a2-606b422e18bf",
   "metadata": {},
   "outputs": [],
   "source": [
    "all_data.round(3).to_csv(\"output/ijssel_data.csv\", index=False)"
   ]
  },
  {
   "cell_type": "code",
   "execution_count": null,
   "id": "7b65c880-aa6f-424e-bfdb-4dd555c18ad6",
   "metadata": {},
   "outputs": [],
   "source": [
    "# output ijssel locations\n",
    "ijssel_locations = gpd.GeoDataFrame(geometry=list(rijnlijn_vertices.geoms))\n",
    "\n",
    "ijssel_locations[\"SCALED_X\"] = (ijssel_locations.geometry.x - 155_000) / (325_000 / 2)\n",
    "ijssel_locations[\"SCALED_Y\"] = (ijssel_locations.geometry.y - 463_000) / (325_000 / 2)\n",
    "ijssel_locations = ijssel_locations.round(5)\n",
    "\n",
    "sr = [1 for _ in range(len(ijssel_locations))]\n",
    "sr[0] = 0\n",
    "sr[-1] = 0\n",
    "ijssel_locations[\"SR\"] = sr\n",
    "\n",
    "ijssel_locations.drop(columns=\"geometry\").to_csv(\"output/ijssel_locations.csv\", index=False)"
   ]
  },
  {
   "cell_type": "markdown",
   "id": "571cdfb3-56b3-4854-b845-f4ec71b039bd",
   "metadata": {},
   "source": [
    "## normalizing the data"
   ]
  },
  {
   "cell_type": "code",
   "execution_count": null,
   "id": "183e2869-449a-4833-ba31-0618b42aadb0",
   "metadata": {},
   "outputs": [],
   "source": [
    "# try normalizing the measurement data to min and max of first 5 days\n",
    "meas = meas_piv.T\n",
    "meas_first_days = meas[0:5*24*6]  # first 5 days\n",
    "mx = meas_first_days.max()\n",
    "mn = meas_first_days.min()\n",
    "\n",
    "meas_norm = (meas-mn)/(mx-mn)\n",
    "meas_norm[meas_norm < 0] = 0  # avoid negative values, for touch\n",
    "meas_norm"
   ]
  },
  {
   "cell_type": "code",
   "execution_count": null,
   "id": "8f7eb93b-efb0-4475-a1c3-7bdae3bfc9c5",
   "metadata": {},
   "outputs": [],
   "source": [
    "meas_norm_long = meas_norm.reset_index().melt(id_vars=\"DATUMTIJD\", value_name=\"WAARDE_GESCHAALD\")\n",
    "meas_norm_long"
   ]
  },
  {
   "cell_type": "code",
   "execution_count": null,
   "id": "54d2134d-d0c9-40b4-ac2d-a2389496a1c7",
   "metadata": {},
   "outputs": [],
   "source": [
    "(meas_norm_long[\"WAARDE_GESCHAALD\"] == np.nan).sum()"
   ]
  },
  {
   "cell_type": "code",
   "execution_count": null,
   "id": "b489370b-2776-426e-8a3e-65a2ce4dc62a",
   "metadata": {},
   "outputs": [],
   "source": [
    "# meas_long\n",
    "\n",
    "pd.merge(meas_long, meas_norm_long).to_csv(\"output/waterhoogtes_long.csv\", sep=\",\", encoding=\"utf-8\", index=False)\n"
   ]
  },
  {
   "cell_type": "markdown",
   "id": "9709d46e-d158-4c14-8084-c2c0dec3dcfb",
   "metadata": {},
   "source": [
    "## old stuff"
   ]
  },
  {
   "cell_type": "code",
   "execution_count": null,
   "id": "fac96837-79a9-40f6-848a-2427fe28a123",
   "metadata": {},
   "outputs": [],
   "source": [
    "nederrijn = rijnlijn[rijnlijn.layer == \"nederrijn\"].to_crs(epsg=28992)\n",
    "nederrijn.plot()"
   ]
  },
  {
   "cell_type": "code",
   "execution_count": null,
   "id": "87e40a05-2fda-434d-89e1-3318c674de44",
   "metadata": {},
   "outputs": [],
   "source": [
    "nederrijn_geometry = nederrijn.iloc[0].geometry\n",
    "nederrijn_geometry  # type: LineString"
   ]
  },
  {
   "cell_type": "code",
   "execution_count": null,
   "id": "dac9ff61-4c5c-4920-a2ed-1e92fae8bcc3",
   "metadata": {},
   "outputs": [],
   "source": [
    "locations.distance(nederrijn_geometry)  # shortest distance of every location to nederrijn linestring"
   ]
  },
  {
   "cell_type": "code",
   "execution_count": null,
   "id": "bf4c3b70-360e-4ac9-912f-4e4be25cd8b1",
   "metadata": {},
   "outputs": [],
   "source": [
    "nederrijn_locations = locations[locations.distance(nederrijn_geometry) < 1000]\n",
    "nederrijn_locations.plot()"
   ]
  },
  {
   "cell_type": "code",
   "execution_count": null,
   "id": "751f3477-f8f8-4159-9143-3d6ca9978e21",
   "metadata": {},
   "outputs": [],
   "source": [
    "nederrijn_locations[\"RD_X\"], nederrijn_locations[\"RD_Y\"] = nederrijn_locations.geometry.xy"
   ]
  },
  {
   "cell_type": "code",
   "execution_count": null,
   "id": "ce17e040-f41d-4f90-bb73-4ecac8f97b26",
   "metadata": {},
   "outputs": [],
   "source": [
    "# plot original nederrijn geometry with vertices\n",
    "import matplotlib.pyplot as plt\n",
    "\n",
    "fig, ax = plt.subplots()\n",
    "\n",
    "ax.plot(*zip(*nederrijn_geometry.coords), 'o-')\n",
    "plt.show()"
   ]
  },
  {
   "cell_type": "code",
   "execution_count": null,
   "id": "26f2b5e3-39f7-497a-95aa-7a79f502657a",
   "metadata": {},
   "outputs": [],
   "source": [
    "# segmentize nederrijn (denser vertices)\n",
    "nederrijn_dense = nederrijn_geometry.segmentize(max_segment_length=1000)"
   ]
  },
  {
   "cell_type": "code",
   "execution_count": null,
   "id": "b679ad6c-71e6-4c43-8107-8ec7017ab4b2",
   "metadata": {},
   "outputs": [],
   "source": [
    "# plot densified nederrijn\n",
    "import matplotlib.pyplot as plt\n",
    "\n",
    "fig, ax = plt.subplots()\n",
    "\n",
    "ax.plot(*zip(*nederrijn_dense.coords), 'o-')\n",
    "plt.show()"
   ]
  },
  {
   "cell_type": "code",
   "execution_count": null,
   "id": "aa9404a2-3f0d-4738-9798-e0f3196aa325",
   "metadata": {},
   "outputs": [],
   "source": [
    "# for every measurement location, find the nearest point on the dense nederrijn geom\n",
    "import shapely\n",
    "nederrijn_dense_points = list(nederrijn_dense.coords)  # list of tuples\n",
    "\n",
    "new_points = []\n",
    "\n",
    "for measured_geom in nederrijn_locations.geometry:\n",
    "    distances = [shapely.distance(measured_geom, shapely.Point(ndp)) for ndp in nederrijn_dense_points]\n",
    "    min_distance = min(distances)\n",
    "    index = distances.index(min_distance)\n",
    "    new_point = nederrijn_dense_points[index]\n",
    "    new_points.append(shapely.Point(new_point))\n",
    "\n",
    "nederrijn_locations_mapped = nederrijn_locations.copy()\n",
    "nederrijn_locations_mapped.geometry = new_points\n",
    "\n",
    "for i in range(len(nederrijn_locations)):\n",
    "    print(nederrijn_locations.iloc[i].geometry, \"to\", nederrijn_locations_mapped.iloc[i].geometry)"
   ]
  }
 ],
 "metadata": {
  "kernelspec": {
   "display_name": "Python 3 (ipykernel)",
   "language": "python",
   "name": "python3"
  },
  "language_info": {
   "codemirror_mode": {
    "name": "ipython",
    "version": 3
   },
   "file_extension": ".py",
   "mimetype": "text/x-python",
   "name": "python",
   "nbconvert_exporter": "python",
   "pygments_lexer": "ipython3",
   "version": "3.12.0"
  }
 },
 "nbformat": 4,
 "nbformat_minor": 5
}
